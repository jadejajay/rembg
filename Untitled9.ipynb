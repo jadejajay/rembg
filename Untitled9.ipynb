{
  "nbformat": 4,
  "nbformat_minor": 0,
  "metadata": {
    "colab": {
      "provenance": [],
      "authorship_tag": "ABX9TyPp5a45g/PZPQRBVT8wXqBY",
      "include_colab_link": true
    },
    "kernelspec": {
      "name": "python3",
      "display_name": "Python 3"
    },
    "language_info": {
      "name": "python"
    }
  },
  "cells": [
    {
      "cell_type": "markdown",
      "metadata": {
        "id": "view-in-github",
        "colab_type": "text"
      },
      "source": [
        "<a href=\"https://colab.research.google.com/github/jadejajay/rembg/blob/main/Untitled9.ipynb\" target=\"_parent\"><img src=\"https://colab.research.google.com/assets/colab-badge.svg\" alt=\"Open In Colab\"/></a>"
      ]
    },
    {
      "cell_type": "code",
      "source": [
        "import time\n",
        "def timer(func):\n",
        "    def wrapper(*args, **kwargs):\n",
        "        start = time.time()\n",
        "        result = func(*args, **kwargs)\n",
        "        end = time.time()\n",
        "        print(f\"Time taken by {func.__name__} function: {end - start} seconds\")\n",
        "        return result\n",
        "\n",
        "    return wrapper\n"
      ],
      "metadata": {
        "id": "Ze1agLXwdsBt"
      },
      "execution_count": 10,
      "outputs": []
    },
    {
      "cell_type": "code",
      "execution_count": 11,
      "metadata": {
        "id": "XEK9Xdd4c5-2"
      },
      "outputs": [],
      "source": [
        "def karatsuba(x, y):\n",
        "    # Base case: if the input numbers are single digits, return their product\n",
        "    if x < 10 or y < 10:\n",
        "        return x * y\n",
        "\n",
        "    # Split the input numbers into two halves\n",
        "    n = max(len(str(x)), len(str(y)))\n",
        "    m = n // 2\n",
        "    high1, low1 = divmod(x, 10**m)\n",
        "    high2, low2 = divmod(y, 10**m)\n",
        "\n",
        "    # Recursively compute the three sub-products\n",
        "    z0 = karatsuba(low1, low2)\n",
        "    z1 = karatsuba((low1 + high1), (low2 + high2))\n",
        "    z2 = karatsuba(high1, high2)\n",
        "\n",
        "    # Compute the final product using the sub-products\n",
        "    return (z2 * 10**(2*m)) + ((z1 - z2 - z0) * 10**m) + z0\n",
        "\n",
        "@timer\n",
        "def mul(x,y):\n",
        "  return x * y\n",
        "@timer\n",
        "def mul2(x,y):\n",
        "  return karatsuba(x, y)\n"
      ]
    },
    {
      "cell_type": "code",
      "source": [
        "x = 22\n",
        "y = 9147819543786519487618372478534692187438751834768571987234698568714230851827435783648587349187346578164387573649213492793847686914386014689103948888888816094305934658934798603847560913498503983945684\n",
        "product = mul2(x, y)\n",
        "product2 = mul(x, y)\n",
        "print(product)\n",
        "print(product2)\n"
      ],
      "metadata": {
        "colab": {
          "base_uri": "https://localhost:8080/"
        },
        "id": "E5q8woRmd0-U",
        "outputId": "e182658e-7fd6-4514-9f67-686ae0734eb8"
      },
      "execution_count": 38,
      "outputs": [
        {
          "output_type": "stream",
          "name": "stdout",
          "text": [
            "Time taken by mul2 function: 0.0007035732269287109 seconds\n",
            "Time taken by mul function: 1.6689300537109375e-06 seconds\n",
            "201252029963303428727604194527763228123652540364908583719163368511713078740203587240268921682121624719616526620282696841464649112116492323160286875555553954074730562496565569284646340096967087646805048\n",
            "201252029963303428727604194527763228123652540364908583719163368511713078740203587240268921682121624719616526620282696841464649112116492323160286875555553954074730562496565569284646340096967087646805048\n"
          ]
        }
      ]
    },
    {
      "cell_type": "code",
      "source": [
        "o = 2.86102294921875e-06\n",
        "k = 1.1920928955078125e-05\n",
        "print(k-o)"
      ],
      "metadata": {
        "colab": {
          "base_uri": "https://localhost:8080/"
        },
        "id": "-e3c96mTgrKk",
        "outputId": "d975f94b-c274-4bfa-de87-eea577d9e53e"
      },
      "execution_count": 34,
      "outputs": [
        {
          "output_type": "stream",
          "name": "stdout",
          "text": [
            "9.059906005859375e-06\n"
          ]
        }
      ]
    }
  ]
}